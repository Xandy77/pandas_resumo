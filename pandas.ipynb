{
 "cells": [
  {
   "cell_type": "markdown",
   "metadata": {},
   "source": [
    "# O Pandas é uma biblioteca de código aberto para a linguagem de programação Python que fornece estruturas de dados e ferramentas para análise e manipulação de dados. Ele é amplamente utilizado em ciência de dados, análise de dados e aprendizado de máquina.\n",
    "\n",
    "\n",
    "## O pandas pode ser instalado via pip a partir do PyPI:\n",
    "### - pip install pandas\n",
    "\n",
    "## pandas faz parte da distribuição Anaconda e pode ser instalado com Anaconda ou Miniconda:\n",
    "### - conda install -c conda-forge pandas\n",
    "\n",
    "\n",
    "*Italico*<br />\n",
    "**Negrito**<br />\n",
    "***Negrito itálico***<br />\n",
    "\n"
   ]
  }
 ],
 "metadata": {
  "kernelspec": {
   "display_name": ".venv",
   "language": "python",
   "name": "python3"
  },
  "language_info": {
   "codemirror_mode": {
    "name": "ipython",
    "version": 3
   },
   "file_extension": ".py",
   "mimetype": "text/x-python",
   "name": "python",
   "nbconvert_exporter": "python",
   "pygments_lexer": "ipython3",
   "version": "3.12.5"
  }
 },
 "nbformat": 4,
 "nbformat_minor": 2
}
